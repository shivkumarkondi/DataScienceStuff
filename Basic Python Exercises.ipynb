{
 "cells": [
  {
   "cell_type": "markdown",
   "metadata": {},
   "source": [
    "## Basic Python Exercises"
   ]
  },
  {
   "cell_type": "markdown",
   "metadata": {},
   "source": [
    "Below are the topics being covered:"
   ]
  },
  {
   "cell_type": "markdown",
   "metadata": {},
   "source": [
    " Introduction to Machine Learning<br>\n",
    " Basics of Python<br>\n",
    " Basic Data Types<br>\n",
    " Data Structures (Lists , Tuples, Dictionary)<br>\n",
    " Creating, accessing and modifying data types<br>\n",
    " Control Flow"
   ]
  },
  {
   "cell_type": "markdown",
   "metadata": {},
   "source": [
    "## https://jupyter.org/try"
   ]
  },
  {
   "cell_type": "markdown",
   "metadata": {},
   "source": [
    "**Question 1: Write a Python program to print the following string in a specific format**\n",
    "\n",
    "Sample String : \"Twinkle, twinkle, little star, How I wonder what you are! Up above the world so high, Like a diamond in the sky. Twinkle, twinkle, little star, How I wonder what you are\"\n",
    "<br><br>\n",
    "Formatted Output\n",
    "<pre>Twinkle, twinkle, little star,\n",
    "\tHow I wonder what you are! \n",
    "\t\tUp above the world so high,   \t\t\n",
    "\t\tLike a diamond in the sky. \n",
    "Twinkle, twinkle, little star, \n",
    "\tHow I wonder what you are<pre>"
   ]
  },
  {
   "cell_type": "code",
   "execution_count": 1,
   "metadata": {
    "collapsed": true
   },
   "outputs": [
    {
     "name": "stdout",
     "output_type": "stream",
     "text": [
      "Twinkle, twinkle, little star, \n",
      "\tHow I wonder what you are! \n",
      "\t\tUp above the world so high, \n",
      "\t\tLike a diamond in the sky. \n",
      "Twinkle, twinkle, little star, \n",
      "\tHow I wonder what you are!\n"
     ]
    }
   ],
   "source": [
    "## Your answer here\n",
    "print(\"Twinkle, twinkle, little star, \\n\\tHow I wonder what you are! \\n\\t\\tUp above the world so high, \\n\\t\\tLike a diamond in the sky. \\nTwinkle, twinkle, little star, \\n\\tHow I wonder what you are!\")\n"
   ]
  },
  {
   "cell_type": "markdown",
   "metadata": {},
   "source": [
    "**Question 2: Write a Python program which accepts the radius of a circle from the user and compute the area.  ***\n",
    "<br>\n",
    "Sample Input & Output : <br>\n",
    "r = 1.1 <br>\n",
    "Area = 3.8013271108436504"
   ]
  },
  {
   "cell_type": "code",
   "execution_count": 2,
   "metadata": {
    "collapsed": true
   },
   "outputs": [
    {
     "name": "stdin",
     "output_type": "stream",
     "text": [
      "Input the radius of the circle =  2\n"
     ]
    },
    {
     "name": "stdout",
     "output_type": "stream",
     "text": [
      "The area of the circle with radius 2.0 is =  12.566370614359172\n"
     ]
    }
   ],
   "source": [
    "## Your answer here\n",
    "from math import pi\n",
    "r = float(input(\"Input the radius of the circle = \"))\n",
    "print (\"The area of the circle with radius \" + str(r) + \" is =  \" + str(pi * r**2))\n"
   ]
  },
  {
   "cell_type": "markdown",
   "metadata": {},
   "source": [
    "<b> Question 3: Write a Python program to get the difference between a given number and 17, if the number is greater than 17 return double the absolute difference.</b>"
   ]
  },
  {
   "cell_type": "code",
   "execution_count": 5,
   "metadata": {
    "collapsed": true
   },
   "outputs": [
    {
     "name": "stdout",
     "output_type": "stream",
     "text": [
      "166\n",
      "12\n"
     ]
    }
   ],
   "source": [
    "def difference(n):\n",
    "    if n <= 17:\n",
    "        return 17 - n\n",
    "    else:\n",
    "        return (n - 17) * 2 \n",
    "\n",
    "print(difference(100))\n",
    "print(difference(5))\n"
   ]
  },
  {
   "cell_type": "markdown",
   "metadata": {},
   "source": [
    "<b> Question 4: Write a Python program to find whether a given number (accept from the user) is even or odd, print out an appropriate message to the user. </b>"
   ]
  },
  {
   "cell_type": "code",
   "execution_count": 6,
   "metadata": {
    "collapsed": true
   },
   "outputs": [
    {
     "name": "stdin",
     "output_type": "stream",
     "text": [
      "Enter a number:  2\n"
     ]
    },
    {
     "name": "stdout",
     "output_type": "stream",
     "text": [
      "This is an even number.\n"
     ]
    }
   ],
   "source": [
    "## Your answer here\n",
    "num = int(input(\"Enter a number: \"))\n",
    "mod = num % 2\n",
    "if mod > 0:\n",
    "    print(\"This is an odd number.\")\n",
    "else:\n",
    "    print(\"This is an even number.\")"
   ]
  },
  {
   "cell_type": "markdown",
   "metadata": {},
   "source": [
    "<b> Question 5: Accept list of numbers from user and write a Python program to count the number 4 in a given list.</b>"
   ]
  },
  {
   "cell_type": "code",
   "execution_count": 9,
   "metadata": {
    "collapsed": true
   },
   "outputs": [],
   "source": [
    "## Your answer here"
   ]
  },
  {
   "cell_type": "markdown",
   "metadata": {},
   "source": [
    "<b> Question 6 : Write a Python program to count the number of even and odd numbers from a series of numbers. Go to the editor </b> <br>\n",
    "Sample numbers : numbers = (1, 2, 3, 4, 5, 6, 7, 8, 9)  <br>\n",
    "Expected Output :  <br>\n",
    "Number of even numbers : 5 <br>\n",
    "Number of odd numbers : 4 <br>"
   ]
  },
  {
   "cell_type": "code",
   "execution_count": 14,
   "metadata": {
    "collapsed": true
   },
   "outputs": [
    {
     "name": "stdin",
     "output_type": "stream",
     "text": [
      "Enter any sq number :   52\n"
     ]
    },
    {
     "name": "stdout",
     "output_type": "stream",
     "text": [
      "Number of even numbers : 26\n",
      "Number of odd  numbers : 26\n"
     ]
    }
   ],
   "source": [
    "## Your answer here\n",
    "sq = int(input( 'Enter any sq number :  ' ))\n",
    "ev = 0\n",
    "od = 0\n",
    "for x in range(sq):\n",
    "    if x%2 >0:\n",
    "        ev+=1\n",
    "    else:\n",
    "        od +=1\n",
    "        \n",
    "print('Number of even numbers : '+ str(ev))\n",
    "print('Number of odd  numbers : '+ str(od))"
   ]
  },
  {
   "cell_type": "markdown",
   "metadata": {},
   "source": [
    "<b> Question 7: Write a Python program which takes two digits m (row) and n (column) as input and generates a two-dimensional array. The element value in the i-th row and j-th column of the array should be i*j.</b>"
   ]
  },
  {
   "cell_type": "code",
   "execution_count": 16,
   "metadata": {
    "collapsed": true
   },
   "outputs": [
    {
     "name": "stdout",
     "output_type": "stream",
     "text": [
      "0 0 0 0 0 \n",
      "0 1 2 3 4 \n",
      "0 2 4 6 8 \n"
     ]
    }
   ],
   "source": [
    "## Your answer here\n",
    "row = 3\n",
    "col = 5\n",
    "for r in range(row):\n",
    "    for c in range(col):\n",
    "        print(r*c, end = ' ')\n",
    "    print()\n",
    "\n",
    "        "
   ]
  },
  {
   "cell_type": "markdown",
   "metadata": {},
   "source": [
    "<b>Question 8: What is the output of the following code?\n",
    "</b><br>\n",
    "nums = set([1,1,2,3,3,3,4,4])<br>\n",
    "print(len(nums))<br>\n",
    "Hint: Set consists unique element."
   ]
  },
  {
   "cell_type": "code",
   "execution_count": 15,
   "metadata": {},
   "outputs": [
    {
     "name": "stdout",
     "output_type": "stream",
     "text": [
      "4\n"
     ]
    }
   ],
   "source": [
    "## Your answer here\n",
    "nums = set([1,1,2,3,3,3,4,4])\n",
    "print(len(nums))\n"
   ]
  },
  {
   "cell_type": "markdown",
   "metadata": {},
   "source": [
    "<b>Question 9.  What will be the output? </b><br>\n",
    "d = {\"john\":40, \"peter\":45} <br>\n",
    "print(list(d.keys())) <br>\n",
    "Hint: d.keys() is the function which will show keys"
   ]
  },
  {
   "cell_type": "code",
   "execution_count": 2,
   "metadata": {},
   "outputs": [],
   "source": [
    "## Your answer here"
   ]
  },
  {
   "cell_type": "markdown",
   "metadata": {},
   "source": [
    "<b>Question 10. A website requires a user to input username and password to register. Write a program to check the validity of password given by user. Following are the criteria for checking password:</b>\n",
    "\n",
    "1. At least 1 letter between [a-z]\n",
    "2. At least 1 number between [0-9]\n",
    "  1. At least 1 letter between [A-Z]\n",
    "3. At least 1 character from [$#@]\n",
    "  4. Minimum length of transaction password: 6\n",
    "5. Maximum length of transaction password: 12\n",
    "\n",
    "Hint: In case of input data being supplied to the question, it should be assumed to be a console input."
   ]
  },
  {
   "cell_type": "code",
   "execution_count": 18,
   "metadata": {},
   "outputs": [
    {
     "name": "stdin",
     "output_type": "stream",
     "text": [
      "Input your password As\n"
     ]
    },
    {
     "name": "stdout",
     "output_type": "stream",
     "text": [
      "Not a Valid Password\n"
     ]
    }
   ],
   "source": [
    "## Your answer here\n",
    "import re\n",
    "p= input(\"Input your password\")\n",
    "x = True\n",
    "while x:  \n",
    "    if (len(p)<6 or len(p)>12):\n",
    "        break\n",
    "    elif not re.search(\"[a-z]\",p):\n",
    "        break\n",
    "    elif not re.search(\"[0-9]\",p):\n",
    "        break\n",
    "    elif not re.search(\"[A-Z]\",p):\n",
    "        break\n",
    "    elif not re.search(\"[$#@]\",p):\n",
    "        break\n",
    "    elif re.search(\"\\s\",p):\n",
    "        break\n",
    "    else:\n",
    "        print(\"Valid Password\")\n",
    "        x=False\n",
    "        break\n",
    "\n",
    "if x:\n",
    "    print(\"Not a Valid Password\")\n"
   ]
  },
  {
   "cell_type": "markdown",
   "metadata": {},
   "source": [
    "<b>Question 11. Write a for loop that prints all elements of a list and their position in the list.\n",
    "\n",
    "a = [4,7,3,2,5,9]\n",
    "\n",
    "Hint: Use Loop to iterate through list elements.</b>"
   ]
  },
  {
   "cell_type": "code",
   "execution_count": 4,
   "metadata": {},
   "outputs": [],
   "source": [
    "## Your answer here"
   ]
  },
  {
   "cell_type": "markdown",
   "metadata": {},
   "source": [
    "<b>Question 12. Please write a program which accepts a string from console and print the characters that have even indexes.\n",
    "</b><br>\n",
    "Example: If the following string is given as input to the program:<br>\n",
    "<i>H1e2l3l4o5w6o7r8l9d</i><br>\n",
    "Then, the output of the program should be:<br>\n",
    "<i>Helloworld</i>"
   ]
  },
  {
   "cell_type": "code",
   "execution_count": 6,
   "metadata": {},
   "outputs": [],
   "source": [
    "## Your answer here"
   ]
  },
  {
   "cell_type": "markdown",
   "metadata": {},
   "source": [
    "<b>Question 13. Please write a program which accepts a string from console and print it in reverse order.</b><br>\n",
    "Example: If the following string is given as input to the program:\n",
    "<br>\n",
    "<i>rise to vote sir</i><br>\n",
    "Then, the output of the program should be:<br>\n",
    "<i>ris etov ot esir</i><br>"
   ]
  },
  {
   "cell_type": "code",
   "execution_count": 7,
   "metadata": {},
   "outputs": [],
   "source": [
    "## Your answer here"
   ]
  },
  {
   "cell_type": "markdown",
   "metadata": {},
   "source": [
    "<b>Question 14.Please write a program which count and print the numbers of each character in a string input by console.</b><br>\n",
    "Example: If the following string is given as input to the program:<br>\n",
    "<i>abcdefgabc</i><br>\n",
    "Then, the output of the program should be:<br>\n",
    "a,2<br>\n",
    "c,2<br>\n",
    "b,2<br>\n",
    "e,1<br>\n",
    "d,1<br>\n",
    "g,1<br>\n",
    "f,1<br>"
   ]
  },
  {
   "cell_type": "code",
   "execution_count": 8,
   "metadata": {},
   "outputs": [],
   "source": [
    "## Your answer here"
   ]
  },
  {
   "cell_type": "markdown",
   "metadata": {},
   "source": [
    "<b>Question 15. With two given lists [1,3,6,78,35,55] and [12,24,35,24,88,120,155], </b><br>\n",
    "write a program to make a list whose elements are intersection of the above given lists."
   ]
  },
  {
   "cell_type": "code",
   "execution_count": null,
   "metadata": {},
   "outputs": [],
   "source": []
  }
 ],
 "metadata": {
  "kernelspec": {
   "display_name": "Python 3",
   "language": "python",
   "name": "python3"
  },
  "language_info": {
   "codemirror_mode": {
    "name": "ipython",
    "version": 3
   },
   "file_extension": ".py",
   "mimetype": "text/x-python",
   "name": "python",
   "nbconvert_exporter": "python",
   "pygments_lexer": "ipython3",
   "version": "3.7.3"
  }
 },
 "nbformat": 4,
 "nbformat_minor": 2
}
