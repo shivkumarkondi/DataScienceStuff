{
 "cells": [
  {
   "cell_type": "markdown",
   "metadata": {},
   "source": [
    "# Functions"
   ]
  },
  {
   "cell_type": "markdown",
   "metadata": {},
   "source": [
    "<b>Question 6 : Write a Python function that accepts a string and calculate the number of upper case letters and lower case letters.</b><br>\n",
    "Sample String : 'The quick Brow Fox' <br>\n",
    "Expected Output :  <br>\n",
    "No. of Upper case characters : 3 <br>\n",
    "No. of Lower case Characters : 12 <br>"
   ]
  },
  {
   "cell_type": "code",
   "execution_count": 25,
   "metadata": {},
   "outputs": [],
   "source": [
    "## Write your output here"
   ]
  },
  {
   "cell_type": "markdown",
   "metadata": {},
   "source": [
    "__Question 7 : Write a Python function that takes a list and returns a new list with unique elements of the first list. Go to the editor__ <br>\n",
    "Sample List : [1,2,3,3,3,3,4,5] <br>\n",
    "Unique List : [1, 2, 3, 4, 5] <br>"
   ]
  },
  {
   "cell_type": "code",
   "execution_count": 2,
   "metadata": {},
   "outputs": [],
   "source": [
    "## Write your output here"
   ]
  },
  {
   "cell_type": "markdown",
   "metadata": {},
   "source": [
    "# Numpy"
   ]
  },
  {
   "cell_type": "markdown",
   "metadata": {},
   "source": [
    "## __Coin Data Overview__"
   ]
  },
  {
   "cell_type": "markdown",
   "metadata": {},
   "source": [
    "We will be using data extracted from Kaggle which contains daily price data for different Crypto currencies. File we are using within this class only includes 27 days of data for each 4 Crypto currencies. <br>\n",
    "Following is snapshot of file. <br>\n",
    "<img src='Coin_data_snapshot.PNG'>"
   ]
  },
  {
   "cell_type": "markdown",
   "metadata": {},
   "source": [
    "## Data Description\n",
    "* __Currency__ - Name of the currency\n",
    "* __Data__ - Date for which price is calculated\n",
    "* __Open__ - Open price recorded for currency on mentioned date\n",
    "* __High__ - Highest price reached for currency on mentioned date\n",
    "* __Low__  - Lowest price for currency on mentioned date\n",
    "* __Close__ - Closing price for currency on mentioned date"
   ]
  },
  {
   "cell_type": "markdown",
   "metadata": {},
   "source": [
    "## __Reading Input CSV File__"
   ]
  },
  {
   "cell_type": "code",
   "execution_count": 1,
   "metadata": {},
   "outputs": [],
   "source": [
    "import numpy as np"
   ]
  },
  {
   "cell_type": "code",
   "execution_count": 2,
   "metadata": {},
   "outputs": [],
   "source": [
    "coins_data = np.genfromtxt('consolidated_coin_data.csv', delimiter=',',\n",
    "                           usecols=np.arange(2,7), skip_header=True)"
   ]
  },
  {
   "cell_type": "code",
   "execution_count": 6,
   "metadata": {},
   "outputs": [],
   "source": [
    "#Type your code here\n",
    "coins_reshape = coins_data.reshape(4, 28, 5)"
   ]
  },
  {
   "cell_type": "code",
   "execution_count": 8,
   "metadata": {},
   "outputs": [
    {
     "data": {
      "text/plain": [
       "array([[ 1.22    ,  1.22    ,  1.11    ,  1.13    ,  1.      ],\n",
       "       [ 1.35    ,  1.4     ,  1.18    ,  1.22    ,  2.      ],\n",
       "       [ 1.29    ,  1.39    ,  1.16    ,  1.35    ,  3.      ],\n",
       "       [ 1.18    ,  1.34    ,  1.18    ,  1.28    ,  4.      ],\n",
       "       [ 1.29    ,  1.39    ,  1.12    ,  1.19    ,  5.      ],\n",
       "       [ 1.07    ,  1.29    ,  0.870933,  1.29    ,  6.      ],\n",
       "       [ 1.37    ,  1.39    ,  0.982856,  1.07    ,  7.      ],\n",
       "       [ 1.63    ,  1.67    ,  1.28    ,  1.39    ,  8.      ],\n",
       "       [ 1.59    ,  1.7     ,  1.45    ,  1.63    ,  9.      ],\n",
       "       [ 1.7     ,  1.71    ,  1.25    ,  1.59    , 10.      ],\n",
       "       [ 1.94    ,  2.16    ,  1.59    ,  1.7     , 11.      ],\n",
       "       [ 1.75    ,  2.02    ,  1.65    ,  1.93    , 12.      ],\n",
       "       [ 2.07    ,  2.2     ,  1.69    ,  1.74    , 13.      ],\n",
       "       [ 1.99    ,  2.1     ,  1.97    ,  2.1     , 14.      ],\n",
       "       [ 1.97    ,  2.16    ,  1.96    ,  1.99    , 15.      ],\n",
       "       [ 2.09    ,  2.09    ,  1.88    ,  1.95    , 16.      ],\n",
       "       [ 2.29    ,  2.29    ,  1.87    ,  2.09    , 17.      ],\n",
       "       [ 1.79    ,  2.51    ,  1.78    ,  2.29    , 18.      ],\n",
       "       [ 1.42    ,  2.03    ,  1.37    ,  1.8     , 19.      ],\n",
       "       [ 1.43    ,  1.55    ,  1.25    ,  1.43    , 20.      ],\n",
       "       [ 1.6     ,  1.62    ,  1.3     ,  1.43    , 21.      ],\n",
       "       [ 1.98    ,  2.      ,  1.44    ,  1.58    , 22.      ],\n",
       "       [ 1.62    ,  2.1     ,  1.57    ,  1.98    , 23.      ],\n",
       "       [ 1.37    ,  1.66    ,  1.28    ,  1.63    , 24.      ],\n",
       "       [ 1.3     ,  1.48    ,  1.21    ,  1.38    , 25.      ],\n",
       "       [ 1.08    ,  1.37    ,  0.970328,  1.29    , 26.      ],\n",
       "       [ 1.36    ,  1.38    ,  0.911486,  1.09    , 27.      ],\n",
       "       [ 1.66    ,  1.67    ,  1.34    ,  1.36    , 28.      ]])"
      ]
     },
     "execution_count": 8,
     "metadata": {},
     "output_type": "execute_result"
    }
   ],
   "source": [
    "coins_reshape[3]"
   ]
  },
  {
   "cell_type": "code",
   "execution_count": 9,
   "metadata": {},
   "outputs": [
    {
     "data": {
      "text/plain": [
       "(4, 28, 5)"
      ]
     },
     "execution_count": 9,
     "metadata": {},
     "output_type": "execute_result"
    }
   ],
   "source": [
    "coins_reshape.shape"
   ]
  },
  {
   "cell_type": "markdown",
   "metadata": {},
   "source": [
    "## Data Details"
   ]
  },
  {
   "cell_type": "code",
   "execution_count": 103,
   "metadata": {},
   "outputs": [],
   "source": [
    "#Type your code here"
   ]
  },
  {
   "cell_type": "markdown",
   "metadata": {},
   "source": [
    "## Indexing and Slicing the data"
   ]
  },
  {
   "cell_type": "markdown",
   "metadata": {},
   "source": [
    "__Select data for second cryptocurrency only__"
   ]
  },
  {
   "cell_type": "code",
   "execution_count": 104,
   "metadata": {},
   "outputs": [],
   "source": [
    "#Type your code here"
   ]
  },
  {
   "cell_type": "markdown",
   "metadata": {},
   "source": [
    "__Select 3rd Cryptocurrency and top 10 rows and open close price values__"
   ]
  },
  {
   "cell_type": "code",
   "execution_count": 105,
   "metadata": {},
   "outputs": [],
   "source": [
    "#Type your code here"
   ]
  },
  {
   "cell_type": "code",
   "execution_count": 106,
   "metadata": {},
   "outputs": [],
   "source": [
    "#Type your code here"
   ]
  },
  {
   "cell_type": "markdown",
   "metadata": {},
   "source": [
    "## __ Reshaping Data__"
   ]
  },
  {
   "cell_type": "markdown",
   "metadata": {},
   "source": [
    "* Dim1 - 4 Crypto currencies\n",
    "* Dim2 - 28 days of data for each cryptocurrency\n",
    "* Dim3 - 5 feature in day"
   ]
  },
  {
   "cell_type": "code",
   "execution_count": 107,
   "metadata": {},
   "outputs": [],
   "source": [
    "#Type your code here"
   ]
  },
  {
   "cell_type": "markdown",
   "metadata": {},
   "source": [
    "### Select 1st and 3rd cryptocurrency into different array"
   ]
  },
  {
   "cell_type": "code",
   "execution_count": 108,
   "metadata": {},
   "outputs": [],
   "source": [
    "#Type your code here"
   ]
  },
  {
   "cell_type": "markdown",
   "metadata": {},
   "source": [
    "## __Arithmatic Operations__"
   ]
  },
  {
   "cell_type": "markdown",
   "metadata": {},
   "source": [
    "__Lets add first coin and third coin into new array, but we want to keep the last column same.__"
   ]
  },
  {
   "cell_type": "code",
   "execution_count": 109,
   "metadata": {},
   "outputs": [],
   "source": [
    "#Type your code here"
   ]
  },
  {
   "cell_type": "markdown",
   "metadata": {},
   "source": [
    "## __Aggregate and Universal Function__"
   ]
  },
  {
   "cell_type": "markdown",
   "metadata": {},
   "source": [
    "* For each day find out mean price over all coins, output shape will be (28, 5)"
   ]
  },
  {
   "cell_type": "code",
   "execution_count": 30,
   "metadata": {},
   "outputs": [],
   "source": [
    "# Type your code here"
   ]
  },
  {
   "cell_type": "markdown",
   "metadata": {},
   "source": [
    "* For each coin we want to find out average price over 28 days, output shape will be (4, 5)"
   ]
  },
  {
   "cell_type": "code",
   "execution_count": 34,
   "metadata": {},
   "outputs": [],
   "source": [
    "# Type your code here"
   ]
  },
  {
   "cell_type": "markdown",
   "metadata": {},
   "source": [
    "* Try for axis = 2 and guess what is the output"
   ]
  },
  {
   "cell_type": "markdown",
   "metadata": {},
   "source": [
    "* Lets get max **closing price** over 28 days for each coin"
   ]
  },
  {
   "cell_type": "code",
   "execution_count": 35,
   "metadata": {},
   "outputs": [],
   "source": [
    "# Type your code here"
   ]
  },
  {
   "cell_type": "markdown",
   "metadata": {},
   "source": [
    "* Get the day on which closing price was high for each coin"
   ]
  },
  {
   "cell_type": "code",
   "execution_count": 39,
   "metadata": {},
   "outputs": [],
   "source": [
    "# Type your code here"
   ]
  },
  {
   "cell_type": "markdown",
   "metadata": {},
   "source": [
    "## __List and Boolean Filters__"
   ]
  },
  {
   "cell_type": "markdown",
   "metadata": {},
   "source": [
    "* Filter all rows where price is greater than average for each coin"
   ]
  },
  {
   "cell_type": "code",
   "execution_count": 41,
   "metadata": {},
   "outputs": [],
   "source": [
    "# Type your code here"
   ]
  },
  {
   "cell_type": "markdown",
   "metadata": {},
   "source": [
    "## Iterating"
   ]
  },
  {
   "cell_type": "markdown",
   "metadata": {},
   "source": [
    "* Get weekly avg closing price for first coin"
   ]
  },
  {
   "cell_type": "code",
   "execution_count": 43,
   "metadata": {},
   "outputs": [],
   "source": [
    "# Type your code here"
   ]
  },
  {
   "cell_type": "code",
   "execution_count": null,
   "metadata": {},
   "outputs": [],
   "source": []
  }
 ],
 "metadata": {
  "kernelspec": {
   "display_name": "Python 3",
   "language": "python",
   "name": "python3"
  },
  "language_info": {
   "codemirror_mode": {
    "name": "ipython",
    "version": 3
   },
   "file_extension": ".py",
   "mimetype": "text/x-python",
   "name": "python",
   "nbconvert_exporter": "python",
   "pygments_lexer": "ipython3",
   "version": "3.7.1"
  }
 },
 "nbformat": 4,
 "nbformat_minor": 2
}
